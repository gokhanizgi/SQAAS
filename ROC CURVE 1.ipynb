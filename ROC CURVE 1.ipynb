{
 "cells": [
  {
   "cell_type": "code",
   "execution_count": 8,
   "metadata": {},
   "outputs": [],
   "source": [
    "import numpy as np\n",
    "import pandas as pd\n",
    "import matplotlib.pyplot as plt\n",
    "import seaborn as sns\n",
    "# roc curve and auc score\n",
    "from sklearn.datasets import make_classification\n",
    "from sklearn.neighbors import KNeighborsClassifier\n",
    "from sklearn.ensemble import RandomForestClassifier\n",
    "from sklearn.model_selection import train_test_split\n",
    "from sklearn.metrics import roc_curve\n",
    "from sklearn.metrics import roc_auc_score"
   ]
  },
  {
   "cell_type": "code",
   "execution_count": 9,
   "metadata": {},
   "outputs": [],
   "source": [
    "def plot_roc_curve(fpr, tpr):\n",
    "    plt.plot(fpr, tpr, color='orange', label='ROC')\n",
    "    plt.plot([0, 1], [0, 1], color='darkblue', linestyle='--')\n",
    "    plt.xlabel('False Positive Rate')\n",
    "    plt.ylabel('True Positive Rate')\n",
    "    plt.title('Receiver Operating Characteristic (ROC) Curve')\n",
    "    plt.legend()\n",
    "    plt.show()"
   ]
  },
  {
   "cell_type": "code",
   "execution_count": 1,
   "metadata": {},
   "outputs": [],
   "source": [
    "from sklearn import cluster\n",
    "import networkx as nx\n",
    "from collections import defaultdict\n",
    "import matplotlib.pyplot as plt\n",
    "from matplotlib import cm\n",
    "import seaborn as sns\n",
    "import pandas as pd\n",
    "import numpy as np\n",
    "from sklearn.metrics.cluster import normalized_mutual_info_score\n",
    "from sklearn.metrics.cluster import adjusted_rand_score"
   ]
  },
  {
   "cell_type": "code",
   "execution_count": 2,
   "metadata": {},
   "outputs": [
    {
     "name": "stdout",
     "output_type": "stream",
     "text": [
      "Reading\n",
      "Reading done\n"
     ]
    },
    {
     "data": {
      "text/html": [
       "<div>\n",
       "<style scoped>\n",
       "    .dataframe tbody tr th:only-of-type {\n",
       "        vertical-align: middle;\n",
       "    }\n",
       "\n",
       "    .dataframe tbody tr th {\n",
       "        vertical-align: top;\n",
       "    }\n",
       "\n",
       "    .dataframe thead th {\n",
       "        text-align: right;\n",
       "    }\n",
       "</style>\n",
       "<table border=\"1\" class=\"dataframe\">\n",
       "  <thead>\n",
       "    <tr style=\"text-align: right;\">\n",
       "      <th></th>\n",
       "      <th>ID</th>\n",
       "      <th>PARTNUMBER</th>\n",
       "      <th>SERIALNUMBER</th>\n",
       "      <th>PRODUCTIONRUN</th>\n",
       "      <th>MACHINENAME</th>\n",
       "      <th>CYCLENUMBER</th>\n",
       "      <th>CURRENTCYCLETIME</th>\n",
       "      <th>CYCLETIME</th>\n",
       "      <th>FILLTIME</th>\n",
       "      <th>SCREWRETPOSITION</th>\n",
       "      <th>...</th>\n",
       "      <th>NOZZLETEMPMAX</th>\n",
       "      <th>BACKPRESSMIN</th>\n",
       "      <th>BACKPRESSMAX</th>\n",
       "      <th>PEAKPRESSUREMIN</th>\n",
       "      <th>PEAKPRESSUREMAX</th>\n",
       "      <th>TRANSITIONPRESSUREMIN</th>\n",
       "      <th>TRANSITIONPRESSUREMAX</th>\n",
       "      <th>PACKPRESSSEG1MIN</th>\n",
       "      <th>PACKPRESSSEG1MAX</th>\n",
       "      <th>TOOLNUMBER</th>\n",
       "    </tr>\n",
       "  </thead>\n",
       "  <tbody>\n",
       "    <tr>\n",
       "      <th>0</th>\n",
       "      <td>178682229</td>\n",
       "      <td>13673591.0</td>\n",
       "      <td>9894380484</td>\n",
       "      <td>860202</td>\n",
       "      <td>4</td>\n",
       "      <td>1888</td>\n",
       "      <td>NaN</td>\n",
       "      <td>19.4</td>\n",
       "      <td>1.03</td>\n",
       "      <td>1.12</td>\n",
       "      <td>...</td>\n",
       "      <td>NaN</td>\n",
       "      <td>NaN</td>\n",
       "      <td>NaN</td>\n",
       "      <td>NaN</td>\n",
       "      <td>NaN</td>\n",
       "      <td>NaN</td>\n",
       "      <td>NaN</td>\n",
       "      <td>NaN</td>\n",
       "      <td>NaN</td>\n",
       "      <td>13673591 PM A 0001</td>\n",
       "    </tr>\n",
       "    <tr>\n",
       "      <th>1</th>\n",
       "      <td>166845693</td>\n",
       "      <td>13593466.0</td>\n",
       "      <td>9894203735</td>\n",
       "      <td>836719</td>\n",
       "      <td>4</td>\n",
       "      <td>996</td>\n",
       "      <td>NaN</td>\n",
       "      <td>17.2</td>\n",
       "      <td>0.98</td>\n",
       "      <td>0.96</td>\n",
       "      <td>...</td>\n",
       "      <td>NaN</td>\n",
       "      <td>NaN</td>\n",
       "      <td>NaN</td>\n",
       "      <td>NaN</td>\n",
       "      <td>NaN</td>\n",
       "      <td>NaN</td>\n",
       "      <td>NaN</td>\n",
       "      <td>NaN</td>\n",
       "      <td>NaN</td>\n",
       "      <td>13593466 PM A 0002</td>\n",
       "    </tr>\n",
       "    <tr>\n",
       "      <th>2</th>\n",
       "      <td>178733037</td>\n",
       "      <td>13673591.0</td>\n",
       "      <td>9894380487</td>\n",
       "      <td>860202</td>\n",
       "      <td>4</td>\n",
       "      <td>2633</td>\n",
       "      <td>NaN</td>\n",
       "      <td>19.6</td>\n",
       "      <td>1.02</td>\n",
       "      <td>1.12</td>\n",
       "      <td>...</td>\n",
       "      <td>NaN</td>\n",
       "      <td>NaN</td>\n",
       "      <td>NaN</td>\n",
       "      <td>NaN</td>\n",
       "      <td>NaN</td>\n",
       "      <td>NaN</td>\n",
       "      <td>NaN</td>\n",
       "      <td>NaN</td>\n",
       "      <td>NaN</td>\n",
       "      <td>13673591 PM A 0001</td>\n",
       "    </tr>\n",
       "    <tr>\n",
       "      <th>3</th>\n",
       "      <td>151001365</td>\n",
       "      <td>13673591.0</td>\n",
       "      <td>9893981618</td>\n",
       "      <td>814925</td>\n",
       "      <td>4</td>\n",
       "      <td>6640</td>\n",
       "      <td>NaN</td>\n",
       "      <td>20.7</td>\n",
       "      <td>1.00</td>\n",
       "      <td>1.11</td>\n",
       "      <td>...</td>\n",
       "      <td>NaN</td>\n",
       "      <td>NaN</td>\n",
       "      <td>NaN</td>\n",
       "      <td>NaN</td>\n",
       "      <td>NaN</td>\n",
       "      <td>NaN</td>\n",
       "      <td>NaN</td>\n",
       "      <td>NaN</td>\n",
       "      <td>NaN</td>\n",
       "      <td>13673591 PM A 0001</td>\n",
       "    </tr>\n",
       "    <tr>\n",
       "      <th>4</th>\n",
       "      <td>176639067</td>\n",
       "      <td>13673591.0</td>\n",
       "      <td>9894331286</td>\n",
       "      <td>857379</td>\n",
       "      <td>4</td>\n",
       "      <td>12325</td>\n",
       "      <td>NaN</td>\n",
       "      <td>20.0</td>\n",
       "      <td>1.00</td>\n",
       "      <td>1.11</td>\n",
       "      <td>...</td>\n",
       "      <td>NaN</td>\n",
       "      <td>NaN</td>\n",
       "      <td>NaN</td>\n",
       "      <td>NaN</td>\n",
       "      <td>NaN</td>\n",
       "      <td>NaN</td>\n",
       "      <td>NaN</td>\n",
       "      <td>NaN</td>\n",
       "      <td>NaN</td>\n",
       "      <td>13673591 PM A 0001</td>\n",
       "    </tr>\n",
       "  </tbody>\n",
       "</table>\n",
       "<p>5 rows × 49 columns</p>\n",
       "</div>"
      ],
      "text/plain": [
       "          ID  PARTNUMBER  SERIALNUMBER  PRODUCTIONRUN  MACHINENAME  \\\n",
       "0  178682229  13673591.0    9894380484         860202            4   \n",
       "1  166845693  13593466.0    9894203735         836719            4   \n",
       "2  178733037  13673591.0    9894380487         860202            4   \n",
       "3  151001365  13673591.0    9893981618         814925            4   \n",
       "4  176639067  13673591.0    9894331286         857379            4   \n",
       "\n",
       "   CYCLENUMBER  CURRENTCYCLETIME  CYCLETIME  FILLTIME  SCREWRETPOSITION  ...  \\\n",
       "0         1888               NaN       19.4      1.03              1.12  ...   \n",
       "1          996               NaN       17.2      0.98              0.96  ...   \n",
       "2         2633               NaN       19.6      1.02              1.12  ...   \n",
       "3         6640               NaN       20.7      1.00              1.11  ...   \n",
       "4        12325               NaN       20.0      1.00              1.11  ...   \n",
       "\n",
       "   NOZZLETEMPMAX  BACKPRESSMIN  BACKPRESSMAX  PEAKPRESSUREMIN  \\\n",
       "0            NaN           NaN           NaN              NaN   \n",
       "1            NaN           NaN           NaN              NaN   \n",
       "2            NaN           NaN           NaN              NaN   \n",
       "3            NaN           NaN           NaN              NaN   \n",
       "4            NaN           NaN           NaN              NaN   \n",
       "\n",
       "   PEAKPRESSUREMAX  TRANSITIONPRESSUREMIN  TRANSITIONPRESSUREMAX  \\\n",
       "0              NaN                    NaN                    NaN   \n",
       "1              NaN                    NaN                    NaN   \n",
       "2              NaN                    NaN                    NaN   \n",
       "3              NaN                    NaN                    NaN   \n",
       "4              NaN                    NaN                    NaN   \n",
       "\n",
       "   PACKPRESSSEG1MIN  PACKPRESSSEG1MAX          TOOLNUMBER  \n",
       "0               NaN               NaN  13673591 PM A 0001  \n",
       "1               NaN               NaN  13593466 PM A 0002  \n",
       "2               NaN               NaN  13673591 PM A 0001  \n",
       "3               NaN               NaN  13673591 PM A 0001  \n",
       "4               NaN               NaN  13673591 PM A 0001  \n",
       "\n",
       "[5 rows x 49 columns]"
      ]
     },
     "execution_count": 2,
     "metadata": {},
     "output_type": "execute_result"
    }
   ],
   "source": [
    "print(\"Reading\")\n",
    "#m2=399795-703091\n",
    "col_names = ['ID','PARTNUMBER','SERIALNUMBER','PRODUCTIONRUN','MACHINENAME','CYCLENUMBER','CURRENTCYCLETIME','CYCLETIME','FILLTIME','SCREWRETPOSITION','TRANSITIONPOSITION','CUSHIONSIZE','REFILLTIME','NOZZLETEMP','BACKPRESS','INJSPEEDSEG1','INJSPEEDSEG2','INJSPEEDSEG3','PACKPRESSSEG1','HOLDPRESSSEG1','TRANSITIONPRESSURE','STOREDDATE','ACTIVE_MONITORINGID','PEAKPRESSURE','INJECTIONPRESSURE','ISBADPIECE','CYCLETIMEMIN','CYCLETIMEMAX','FILLTIMEMIN','FILLTIMEMAX','SCREWRETPOSITIONMIN','SCREWRETPOSITIONMAX','TRANSITIONPOSITIONMIN','TRANSITIONPOSITIONMAX','CUSHIONSIZEMIN','CUSHIONSIZEMAX','REFILLTIMEMIN','REFILLTIMEMAX','NOZZLETEMPMIN','NOZZLETEMPMAX','BACKPRESSMIN','BACKPRESSMAX','PEAKPRESSUREMIN','PEAKPRESSUREMAX','TRANSITIONPRESSUREMIN','TRANSITIONPRESSUREMAX','PACKPRESSSEG1MIN','PACKPRESSSEG1MAX','TOOLNUMBER']\n",
    "data= pd.read_csv('sorted_data.csv',sep=',',nrows=403555,skiprows=1189957,names=col_names)\n",
    "print(\"Reading done\")\n",
    "data.head()"
   ]
  },
  {
   "cell_type": "code",
   "execution_count": 3,
   "metadata": {},
   "outputs": [],
   "source": [
    "#col_names = ['ID','PARTNUMBER','SERIALNUMBER','PRODUCTIONRUN','MACHINENAME','CYCLENUMBER','CURRENTCYCLETIME','CYCLETIME','FILLTIME','SCREWRETPOSITION','TRANSITIONPOSITION','CUSHIONSIZE','REFILLTIME','NOZZLETEMP','BACKPRESS','INJSPEEDSEG1','INJSPEEDSEG2','INJSPEEDSEG3','PACKPRESSSEG1','HOLDPRESSSEG1','TRANSITIONPRESSURE','STOREDDATE','ACTIVE_MONITORINGID','PEAKPRESSURE','INJECTIONPRESSURE','ISBADPIECE','CYCLETIMEMIN','CYCLETIMEMAX','FILLTIMEMIN','FILLTIMEMAX','SCREWRETPOSITIONMIN','SCREWRETPOSITIONMAX','TRANSITIONPOSITIONMIN','TRANSITIONPOSITIONMAX','CUSHIONSIZEMIN','CUSHIONSIZEMAX','REFILLTIMEMIN','REFILLTIMEMAX','NOZZLETEMPMIN','NOZZLETEMPMAX','BACKPRESSMIN','BACKPRESSMAX','PEAKPRESSUREMIN','PEAKPRESSUREMAX','TRANSITIONPRESSUREMIN','TRANSITIONPRESSUREMAX','PACKPRESSSEG1MIN','PACKPRESSSEG1MAX','TOOLNUMBER']\n",
    "datax= pd.read_csv('sorted_data.csv',sep=',',nrows=403555,skiprows=1189957,names=col_names)\n",
    "\n",
    "\n",
    "cols5=['CYCLETIME','ISBADPIECE']\n",
    "data5=datax[cols5]\n"
   ]
  },
  {
   "cell_type": "code",
   "execution_count": 4,
   "metadata": {},
   "outputs": [
    {
     "data": {
      "text/html": [
       "<div>\n",
       "<style scoped>\n",
       "    .dataframe tbody tr th:only-of-type {\n",
       "        vertical-align: middle;\n",
       "    }\n",
       "\n",
       "    .dataframe tbody tr th {\n",
       "        vertical-align: top;\n",
       "    }\n",
       "\n",
       "    .dataframe thead th {\n",
       "        text-align: right;\n",
       "    }\n",
       "</style>\n",
       "<table border=\"1\" class=\"dataframe\">\n",
       "  <thead>\n",
       "    <tr style=\"text-align: right;\">\n",
       "      <th></th>\n",
       "      <th>CYCLETIME</th>\n",
       "      <th>ISBADPIECE</th>\n",
       "    </tr>\n",
       "  </thead>\n",
       "  <tbody>\n",
       "    <tr>\n",
       "      <th>0</th>\n",
       "      <td>19.4</td>\n",
       "      <td>False</td>\n",
       "    </tr>\n",
       "    <tr>\n",
       "      <th>1</th>\n",
       "      <td>17.2</td>\n",
       "      <td>False</td>\n",
       "    </tr>\n",
       "    <tr>\n",
       "      <th>2</th>\n",
       "      <td>19.6</td>\n",
       "      <td>False</td>\n",
       "    </tr>\n",
       "    <tr>\n",
       "      <th>3</th>\n",
       "      <td>20.7</td>\n",
       "      <td>False</td>\n",
       "    </tr>\n",
       "    <tr>\n",
       "      <th>4</th>\n",
       "      <td>20.0</td>\n",
       "      <td>False</td>\n",
       "    </tr>\n",
       "  </tbody>\n",
       "</table>\n",
       "</div>"
      ],
      "text/plain": [
       "   CYCLETIME  ISBADPIECE\n",
       "0       19.4       False\n",
       "1       17.2       False\n",
       "2       19.6       False\n",
       "3       20.7       False\n",
       "4       20.0       False"
      ]
     },
     "execution_count": 4,
     "metadata": {},
     "output_type": "execute_result"
    }
   ],
   "source": [
    "data5.head()"
   ]
  },
  {
   "cell_type": "code",
   "execution_count": 5,
   "metadata": {},
   "outputs": [],
   "source": [
    "X = data5.drop('ISBADPIECE', axis=1)\n",
    "y = data5['ISBADPIECE']"
   ]
  },
  {
   "cell_type": "code",
   "execution_count": 6,
   "metadata": {},
   "outputs": [],
   "source": [
    "from sklearn.model_selection import train_test_split\n",
    "X_train, X_test, y_train, y_test = train_test_split(X, y, test_size = 0.20)"
   ]
  },
  {
   "cell_type": "code",
   "execution_count": 7,
   "metadata": {},
   "outputs": [
    {
     "name": "stderr",
     "output_type": "stream",
     "text": [
      "C:\\Users\\Gokhan\\Anaconda3\\lib\\site-packages\\sklearn\\linear_model\\logistic.py:433: FutureWarning: Default solver will be changed to 'lbfgs' in 0.22. Specify a solver to silence this warning.\n",
      "  FutureWarning)\n"
     ]
    },
    {
     "data": {
      "text/plain": [
       "LogisticRegression(C=1.0, class_weight=None, dual=False, fit_intercept=True,\n",
       "          intercept_scaling=1, max_iter=100, multi_class='warn',\n",
       "          n_jobs=None, penalty='l2', random_state=None, solver='warn',\n",
       "          tol=0.0001, verbose=0, warm_start=False)"
      ]
     },
     "execution_count": 7,
     "metadata": {},
     "output_type": "execute_result"
    }
   ],
   "source": [
    "# train a logistic regression model on the training set\n",
    "from sklearn.linear_model import LogisticRegression\n",
    "\n",
    "# instantiate model\n",
    "logreg = LogisticRegression()\n",
    "\n",
    "# fit model\n",
    "logreg.fit(X_train, y_train)"
   ]
  },
  {
   "cell_type": "code",
   "execution_count": 13,
   "metadata": {},
   "outputs": [],
   "source": [
    "probs = logreg.predict_proba(X_test)"
   ]
  },
  {
   "cell_type": "code",
   "execution_count": 14,
   "metadata": {},
   "outputs": [],
   "source": [
    "probs = probs[:, 1]"
   ]
  },
  {
   "cell_type": "code",
   "execution_count": 16,
   "metadata": {},
   "outputs": [
    {
     "name": "stdout",
     "output_type": "stream",
     "text": [
      "AUC: 0.60\n"
     ]
    }
   ],
   "source": [
    "auc = roc_auc_score(y_test, probs)\n",
    "print('AUC: %.2f' % auc)"
   ]
  },
  {
   "cell_type": "code",
   "execution_count": 17,
   "metadata": {},
   "outputs": [],
   "source": [
    "fpr, tpr, thresholds = roc_curve(y_test, probs)"
   ]
  },
  {
   "cell_type": "code",
   "execution_count": 18,
   "metadata": {},
   "outputs": [
    {
     "data": {
      "image/png": "[encoded data removed]",
      "text/plain": [
       "<Figure size 432x288 with 1 Axes>"
      ]
     },
     "metadata": {
      "needs_background": "light"
     },
     "output_type": "display_data"
    }
   ],
   "source": [
    "plot_roc_curve(fpr, tpr)"
   ]
  },
  {
   "cell_type": "code",
   "execution_count": null,
   "metadata": {},
   "outputs": [],
   "source": []
  }
 ],
 "metadata": {
  "kernelspec": {
   "display_name": "Python 3",
   "language": "python",
   "name": "python3"
  },
  "language_info": {
   "codemirror_mode": {
    "name": "ipython",
    "version": 3
   },
   "file_extension": ".py",
   "mimetype": "text/x-python",
   "name": "python",
   "nbconvert_exporter": "python",
   "pygments_lexer": "ipython3",
   "version": "3.7.3"
  }
 },
 "nbformat": 4,
 "nbformat_minor": 2
}
